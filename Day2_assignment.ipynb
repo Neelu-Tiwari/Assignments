{
  "nbformat": 4,
  "nbformat_minor": 0,
  "metadata": {
    "colab": {
      "name": "Day2_assignment.ipynb",
      "provenance": [],
      "collapsed_sections": []
    },
    "kernelspec": {
      "name": "python3",
      "display_name": "Python 3"
    }
  },
  "cells": [
    {
      "cell_type": "markdown",
      "metadata": {
        "id": "4xtvC7GTU8p_"
      },
      "source": [
        "Questions 1:\n",
        "Create an empty list. Accept 10 numbers from the user and append to it the list if it is an even number."
      ]
    },
    {
      "cell_type": "code",
      "metadata": {
        "id": "MfhS5ZaSVEGH",
        "outputId": "f09a8b24-4ad4-4431-b2aa-d1ece20d757f",
        "colab": {
          "base_uri": "https://localhost:8080/"
        }
      },
      "source": [
        "list = []\n",
        "\n",
        "print(\"Enter 10 numbers\")\n",
        "for num in range(0, 10):\n",
        "  num = int(input())\n",
        "  if (num%2==0):\n",
        "    list.append(num)\n",
        "print(list)"
      ],
      "execution_count": null,
      "outputs": [
        {
          "output_type": "stream",
          "text": [
            "Enter 10 numbers\n",
            "1\n",
            "52\n",
            "3\n",
            "6000\n",
            "89\n",
            "110\n",
            "29\n",
            "580\n",
            "49\n",
            "512\n",
            "[52, 6000, 110, 580, 512]\n"
          ],
          "name": "stdout"
        }
      ]
    },
    {
      "cell_type": "markdown",
      "metadata": {
        "id": "DIqZ3bfDVaOs"
      },
      "source": [
        "Questions 2:\n",
        "Create a notebook on LIST COMPREHENSION. This exercise is to put you in a Self learning mode"
      ]
    },
    {
      "cell_type": "markdown",
      "metadata": {
        "id": "w42OU68hVefz"
      },
      "source": [
        "**List Comprehension**: List is a collection of data elements surrounded by square brackets and seperated by comas. List comprehension is also surrounded by square brackets but instead of containing list of data elements it consists of expressions followed by for loop and if clauses. List comprehension provides us an elegant way to create lists based on existing lists. \n",
        "The following is the basic structure of list comprehension:-\n",
        "[exp for val in collection]\n",
        "\n",
        "the expression will be added for all collections of data\n",
        "\n",
        "if we want to add only certain peace of data we can add an if clause after for loop:-\n",
        "[exp for val in collection if <  test condition >]\n",
        "\n",
        "the expression will be added only when if condition is true."
      ]
    },
    {
      "cell_type": "code",
      "metadata": {
        "id": "aXL9E9kXbIZi",
        "outputId": "45804fbd-c0d4-42b0-d5c4-f39c15e47584",
        "colab": {
          "base_uri": "https://localhost:8080/"
        }
      },
      "source": [
        "#entering the lists of squares upto 50 using list comprehension\n",
        "\n",
        "squares = [i**2 for i in range(1, 51)]\n",
        "print(squares,)"
      ],
      "execution_count": null,
      "outputs": [
        {
          "output_type": "stream",
          "text": [
            "[1, 4, 9, 16, 25, 36, 49, 64, 81, 100, 121, 144, 169, 196, 225, 256, 289, 324, 361, 400, 441, 484, 529, 576, 625, 676, 729, 784, 841, 900, 961, 1024, 1089, 1156, 1225, 1296, 1369, 1444, 1521, 1600, 1681, 1764, 1849, 1936, 2025, 2116, 2209, 2304, 2401, 2500]\n"
          ],
          "name": "stdout"
        }
      ]
    },
    {
      "cell_type": "markdown",
      "metadata": {
        "id": "eWQFxAt8csr8"
      },
      "source": [
        "In the above code snippet we have used only one line of code to create a list of squares of 50 elements."
      ]
    },
    {
      "cell_type": "code",
      "metadata": {
        "id": "MPUxh3fzeekY",
        "outputId": "19f9afc0-fb59-4580-a654-82cf9401e0ff",
        "colab": {
          "base_uri": "https://localhost:8080/"
        }
      },
      "source": [
        "#entering the list of odd numbers upto 100 using if clause with list comprehension\n",
        "\n",
        "odd_numbers_list = [num for num in range(0,100) if (num%2!=0)]\n",
        "print(odd_numbers_list)"
      ],
      "execution_count": null,
      "outputs": [
        {
          "output_type": "stream",
          "text": [
            "[1, 3, 5, 7, 9, 11, 13, 15, 17, 19, 21, 23, 25, 27, 29, 31, 33, 35, 37, 39, 41, 43, 45, 47, 49, 51, 53, 55, 57, 59, 61, 63, 65, 67, 69, 71, 73, 75, 77, 79, 81, 83, 85, 87, 89, 91, 93, 95, 97, 99]\n"
          ],
          "name": "stdout"
        }
      ]
    },
    {
      "cell_type": "code",
      "metadata": {
        "id": "173n2EdIf9gj",
        "outputId": "771c2230-701f-42b5-fea4-4d38fe4e0fe0",
        "colab": {
          "base_uri": "https://localhost:8080/"
        }
      },
      "source": [
        "#Another example of list comprehension \n",
        "#In this code snippet we will print words whose length is 3\n",
        "elements = [\"apple\", \"ball\", \"cat\", \"dog\" ,\"elephant\", \"fox\", \"grapes\", \"hen\", \"ice\", \"jug\", \"kite\",]\n",
        "\n",
        "new_elements = [x for x in elements if len(x) == 3]\n",
        "print(new_elements)"
      ],
      "execution_count": null,
      "outputs": [
        {
          "output_type": "stream",
          "text": [
            "['cat', 'dog', 'fox', 'hen', 'ice', 'jug']\n"
          ],
          "name": "stdout"
        }
      ]
    },
    {
      "cell_type": "code",
      "metadata": {
        "id": "LpTR6oJapPUT",
        "outputId": "e2f3bce7-b57e-4c08-f95c-4e9ff53c7212",
        "colab": {
          "base_uri": "https://localhost:8080/"
        }
      },
      "source": [
        "#Another example of list comprehension \n",
        "#In this code snippet we will print words starting with a\n",
        "words = [\"apple\", \"aeroplane\", \"cat\", \"dog\" ,\"america\", \"fox\", \"animals\", \"hen\", \"ice\", \"ant\", \"kite\",\"algorithm\"]\n",
        "\n",
        "new_words = [x for x in words if x.startswith(\"a\") and len(x)<8]\n",
        "print(new_words)"
      ],
      "execution_count": null,
      "outputs": [
        {
          "output_type": "stream",
          "text": [
            "['apple', 'america', 'animals', 'ant']\n"
          ],
          "name": "stdout"
        }
      ]
    },
    {
      "cell_type": "markdown",
      "metadata": {
        "id": "WXNYGi9aqq5M"
      },
      "source": [
        "In the above example we have used  two conditions for if. the expression will be executed onlly if both the coditions are true."
      ]
    },
    {
      "cell_type": "markdown",
      "metadata": {
        "id": "cvMKcngQ3EH-"
      },
      "source": [
        "Questions 3:\n",
        "You have seen in the videos how powerful dictionary data structure is.\n",
        "In this assignment, given a number n, you have to write a program that generates a dictionary d which\n",
        "contains (i, i*i), where i is from 1 to n (both included).\n",
        "Then you have to just print this dictionary d."
      ]
    },
    {
      "cell_type": "code",
      "metadata": {
        "id": "xOKK5Lp_3Pjw",
        "outputId": "6981b250-1731-4ec4-b44b-7adbc1faf4b0",
        "colab": {
          "base_uri": "https://localhost:8080/"
        }
      },
      "source": [
        "n = int(input(\"Enter any number: \"))\n",
        "d = {}\n",
        "\n",
        "for i in range(1, n+1):\n",
        "    d[i]= i*i\n",
        "print(d)"
      ],
      "execution_count": 100,
      "outputs": [
        {
          "output_type": "stream",
          "text": [
            "Enter any number: 8\n",
            "{1: 1, 2: 4, 3: 9, 4: 16, 5: 25, 6: 36, 7: 49, 8: 64}\n"
          ],
          "name": "stdout"
        }
      ]
    },
    {
      "cell_type": "markdown",
      "metadata": {
        "id": "xsHzvPzW4hSe"
      },
      "source": [
        " Questions 4:\n",
        "There is a robot which wants to go the charging point to charge itself.\n",
        "The robot moves in a 2-D plane from the original point (0,0). The robot can\n",
        "move toward UP, DOWN, LEFT and RIGHT with given steps.\n",
        "The trace of robot movement is shown as the following:\n",
        "UP 5\n",
        "DOWN 3\n",
        "LEFT 3\n",
        "RIGHT 2\n",
        "Then, the output of the program should be:\n",
        "2\n",
        "The numbers after the direction are steps.\n",
        "Write a program to compute the distance between the current position after\n",
        "a sequence of movement and original point. If the distance is a float, then\n",
        "just print the nearest integer (use round() function for that and then convert\n",
        "it into an integer)."
      ]
    },
    {
      "cell_type": "code",
      "metadata": {
        "id": "_9oRMP9o9U8x",
        "outputId": "9ccbafbd-e8c7-429b-c87c-c2f9229f5541",
        "colab": {
          "base_uri": "https://localhost:8080/"
        }
      },
      "source": [
        "position=0\n",
        "moves={\"UP\":1j,\n",
        "       \"DOWN\":-1j,\n",
        "       \"LEFT\":-1,\n",
        "       \"RIGHT\":1}\n",
        "\n",
        "#Set inputs\n",
        "n = 4\n",
        "data=[\"UP 5\",\n",
        "    \"DOWN 3\",\n",
        "    \"LEFT 2\",\n",
        "    \"RIGHT 2\"]\n",
        "\n",
        "#Move robot on valid moves\n",
        "for inp in data:\n",
        "    parts=inp.split()    \n",
        "    mv=parts[0]\n",
        "    val=parts[1]\n",
        "    print (mv, val)\n",
        "    position += moves[mv]*int(val)\n",
        "\n",
        "#get distance     \n",
        "print(round(abs(position)))"
      ],
      "execution_count": 126,
      "outputs": [
        {
          "output_type": "stream",
          "text": [
            "UP 5\n",
            "DOWN 3\n",
            "LEFT 2\n",
            "RIGHT 2\n",
            "2\n"
          ],
          "name": "stdout"
        }
      ]
    }
  ]
}