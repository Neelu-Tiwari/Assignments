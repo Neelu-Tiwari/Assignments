{
  "nbformat": 4,
  "nbformat_minor": 0,
  "metadata": {
    "colab": {
      "name": "Day1_assignment.ipynb",
      "provenance": [],
      "collapsed_sections": []
    },
    "kernelspec": {
      "name": "python3",
      "display_name": "Python 3"
    }
  },
  "cells": [
    {
      "cell_type": "code",
      "metadata": {
        "id": "ay-efdhPO0jc"
      },
      "source": [
        "RAINBOW"
      ],
      "execution_count": null,
      "outputs": []
    },
    {
      "cell_type": "code",
      "metadata": {
        "id": "oFfotH78PS9f",
        "outputId": "16bc0974-9211-4b61-a94a-bb7e3f33ff74",
        "colab": {
          "base_uri": "https://localhost:8080/"
        }
      },
      "source": [
        "print(\"LETS UPGRADE\")"
      ],
      "execution_count": 20,
      "outputs": [
        {
          "output_type": "stream",
          "text": [
            "LETS UPGRADE\n"
          ],
          "name": "stdout"
        }
      ]
    },
    {
      "cell_type": "code",
      "metadata": {
        "id": "F_ni5x5CPZny",
        "outputId": "23511162-7278-47b8-f99b-6f3bd9132554",
        "colab": {
          "base_uri": "https://localhost:8080/"
        }
      },
      "source": [
        "string=\"lets upgrade\"\n",
        "print(string.upper())"
      ],
      "execution_count": 21,
      "outputs": [
        {
          "output_type": "stream",
          "text": [
            "LETS UPGRADE\n"
          ],
          "name": "stdout"
        }
      ]
    },
    {
      "cell_type": "code",
      "metadata": {
        "id": "TWVrIb70PszR",
        "outputId": "c6ed4fe4-77e0-4115-dac9-7f2f39d2f723",
        "colab": {
          "base_uri": "https://localhost:8080/"
        }
      },
      "source": [
        "cp = int(input())\n",
        "sp = int(input())\n",
        "if (sp > cp):\n",
        "  print(\"Profit\")\n",
        "elif (sp < cp): \n",
        "    print(\"Loss\")\n",
        "else:\n",
        "    print(\"Neither\")"
      ],
      "execution_count": 18,
      "outputs": [
        {
          "output_type": "stream",
          "text": [
            "20\n",
            "30\n",
            "Profit\n"
          ],
          "name": "stdout"
        }
      ]
    },
    {
      "cell_type": "code",
      "metadata": {
        "id": "HrTX3TxrTiGZ",
        "outputId": "fc733f11-790d-49ef-da3a-0ec65b289446",
        "colab": {
          "base_uri": "https://localhost:8080/"
        }
      },
      "source": [
        "Euro = int(input())\n",
        "Ruppee = Euro*80\n",
        "print(Ruppee)"
      ],
      "execution_count": 25,
      "outputs": [
        {
          "output_type": "stream",
          "text": [
            "18\n",
            "1440\n"
          ],
          "name": "stdout"
        }
      ]
    }
  ]
}