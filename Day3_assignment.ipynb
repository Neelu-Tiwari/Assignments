{
  "nbformat": 4,
  "nbformat_minor": 0,
  "metadata": {
    "colab": {
      "name": "Day3_assignment.ipynb",
      "provenance": [],
      "collapsed_sections": []
    },
    "kernelspec": {
      "name": "python3",
      "display_name": "Python 3"
    }
  },
  "cells": [
    {
      "cell_type": "markdown",
      "metadata": {
        "id": "FwithAunALAh"
      },
      "source": [
        "Questions 1:\n",
        "Create a numpy array starting from 2 till 50 with a stepsize of 3."
      ]
    },
    {
      "cell_type": "code",
      "metadata": {
        "id": "dctIgj1NAsx-",
        "outputId": "5a0d4785-ef6f-4cbf-dccb-99b205ac8ea9",
        "colab": {
          "base_uri": "https://localhost:8080/"
        }
      },
      "source": [
        "import numpy as np\n",
        "\n",
        "arr = np.arange(2, 50, 3)\n",
        "print(arr)\n"
      ],
      "execution_count": null,
      "outputs": [
        {
          "output_type": "stream",
          "text": [
            "[ 2  5  8 11 14 17 20 23 26 29 32 35 38 41 44 47]\n"
          ],
          "name": "stdout"
        }
      ]
    },
    {
      "cell_type": "markdown",
      "metadata": {
        "id": "x-MrSv8BByhz"
      },
      "source": [
        "Questions 2:\n",
        "Accept two lists of 5 elements each from the user.\n",
        "Convert them to numpy arrays. Concatenate these arrays and print it. Also sort these arrays and print it."
      ]
    },
    {
      "cell_type": "code",
      "metadata": {
        "id": "vxPwvAO_B3VJ",
        "outputId": "f509064f-416c-44d9-c35a-d1d3d1131509",
        "colab": {
          "base_uri": "https://localhost:8080/"
        }
      },
      "source": [
        "#creating empty lists\n",
        "list_1 = []\n",
        "list_2 = []\n",
        "\n",
        "\n",
        "#creating variable for taking input from user for list_1 and arr_1\n",
        "print(\"Enter 5 element for the list_1: \")\n",
        "for i in range(5):\n",
        "    elements = int(input())\n",
        "    list_1.append(elements)\n",
        "print(\"list_1=\", list_1)\n",
        "arr_1 = np.array(list_1)\n",
        "print(\"\\n arr_1=\", arr_1)\n",
        "\n",
        "#creating variable for taking input from user for list_2 and arr_2\n",
        "print(\"\\nEnter 5 element for the list_2: \")\n",
        "for i in range(5):\n",
        "    elements = int(input())\n",
        "    list_2.append(elements)\n",
        "print(\"list_2=\", list_2)\n",
        "arr_2 = np.array(list_2)\n",
        "print(\"\\n arr_2=\", arr_2)\n",
        "\n",
        "#concatenating arrays\n",
        "arr_3 = np.concatenate((arr_1, arr_2))\n",
        "print(\"\\n Concatenated array:\", arr_3)\n",
        "\n",
        "#sortng the array\n",
        "arr_4 = np.sort(arr_3)\n",
        "print(\"\\n Sorted array:\", arr_4)\n",
        "\n",
        "\n"
      ],
      "execution_count": null,
      "outputs": [
        {
          "output_type": "stream",
          "text": [
            "Enter 5 element for the list_1: \n",
            "89\n",
            "96\n",
            "45\n",
            "12\n",
            "3\n",
            "list_1= [89, 96, 45, 12, 3]\n",
            "\n",
            " arr_1= [89 96 45 12  3]\n",
            "\n",
            "Enter 5 element for the list_2: \n",
            "78\n",
            "56\n",
            "36\n",
            "20\n",
            "1\n",
            "list_2= [78, 56, 36, 20, 1]\n",
            "\n",
            " arr_2= [78 56 36 20  1]\n",
            "\n",
            " Concatenated array: [89 96 45 12  3 78 56 36 20  1]\n",
            "\n",
            " Sorted array: [ 1  3 12 20 36 45 56 78 89 96]\n"
          ],
          "name": "stdout"
        }
      ]
    },
    {
      "cell_type": "markdown",
      "metadata": {
        "id": "zLiiOUHfT2Cf"
      },
      "source": [
        "Questions 3:\n",
        "Write a code snippet to find the dimensions of a ndarray and its size."
      ]
    },
    {
      "cell_type": "code",
      "metadata": {
        "id": "SWZXXRDbUAiV",
        "outputId": "61aff3df-4b33-4b86-faeb-abdc119d13a6",
        "colab": {
          "base_uri": "https://localhost:8080/"
        }
      },
      "source": [
        "#creating an array\n",
        "arr = np.array([[1,2,3,4], [9,8,7,6]])\n",
        "print(\"Array:\", arr)\n",
        "\n",
        "#basic characteristics of array\n",
        "print(\"\\nClass of Array:\", type(arr))\n",
        "\n",
        "print(\"\\nSize of Array:\", arr.size)\n",
        "\n",
        "print(\"\\nDimension of array:\", arr.ndim)"
      ],
      "execution_count": null,
      "outputs": [
        {
          "output_type": "stream",
          "text": [
            "Array: [[1 2 3 4]\n",
            " [9 8 7 6]]\n",
            "\n",
            "Class of Array: <class 'numpy.ndarray'>\n",
            "\n",
            "Size of Array: 8\n",
            "\n",
            "Dimension of array: 2\n"
          ],
          "name": "stdout"
        }
      ]
    },
    {
      "cell_type": "markdown",
      "metadata": {
        "id": "xVDysJXdXdeQ"
      },
      "source": [
        "Questions 4:\n",
        "How to convert a 1D array into a 2D array? Demonstrate with the help of a code snippet\n",
        "Hint: np.newaxis, np.expand_dims"
      ]
    },
    {
      "cell_type": "code",
      "metadata": {
        "id": "h3IsU5hYXk34",
        "outputId": "4d72a2e5-4452-4fa3-b815-284f44181339",
        "colab": {
          "base_uri": "https://localhost:8080/"
        }
      },
      "source": [
        "import numpy as np\n",
        "\n",
        "\n",
        "a = np.array([1, 2, 3, 4, 5, 6])\n",
        "print(a, a.shape)\n",
        "print(\"\\n Dimension of array:\", a.ndim)\n",
        "\n",
        "#Demonterating np.newaxis\n",
        "a2 = a[np.newaxis, :]\n",
        "print(\"\\n\", a2, a2.shape)\n",
        "print(\"\\n Dimension of array:\", a2.ndim)\n",
        "\n",
        "\n",
        "#We can convert a 1D array with either a row vector or a column vector using np.newaxis. \n",
        "row_vector = a[np.newaxis, :]\n",
        "print(\"\\n\", row_vector, row_vector.shape)\n",
        "print(\"\\n Dimension of array:\", row_vector.ndim)\n",
        "\n",
        "\n",
        "col_vector = a[:, np.newaxis]\n",
        "print(\"\\n\", col_vector, col_vector.shape,)\n",
        "print(\"\\n Dimension of array:\", col_vector.ndim)\n",
        "\n",
        "#Demonsterating np.expand_dims\n",
        "a = np.array([1, 2, 3, 4, 5, 6])\n",
        "print(\"\\n\", a, a.shape)\n",
        "print(\"\\n Dimension of array:\", a.ndim)\n",
        "\n",
        "b = np.expand_dims(a, axis=1)\n",
        "print(\"\\n\", b, b.shape)\n",
        "print(\"\\n Dimension of array:\", b.ndim)\n",
        "\n",
        "c = np.expand_dims(a, axis=0)\n",
        "print(\"\\n\", c, c.shape)\n",
        "print(\"\\n Dimension of array:\", c.ndim)\n"
      ],
      "execution_count": 13,
      "outputs": [
        {
          "output_type": "stream",
          "text": [
            "[1 2 3 4 5 6] (6,)\n",
            "\n",
            " Dimension of array: 1\n",
            "\n",
            " [[1 2 3 4 5 6]] (1, 6)\n",
            "\n",
            " Dimension of array: 2\n",
            "\n",
            " [[1 2 3 4 5 6]] (1, 6)\n",
            "\n",
            " Dimension of array: 2\n",
            "\n",
            " [[1]\n",
            " [2]\n",
            " [3]\n",
            " [4]\n",
            " [5]\n",
            " [6]] (6, 1)\n",
            "\n",
            " Dimension of array: 2\n",
            "\n",
            " [1 2 3 4 5 6] (6,)\n",
            "\n",
            " Dimension of array: 1\n",
            "\n",
            " [[1]\n",
            " [2]\n",
            " [3]\n",
            " [4]\n",
            " [5]\n",
            " [6]] (6, 1)\n",
            "\n",
            " Dimension of array: 2\n",
            "\n",
            " [[1 2 3 4 5 6]] (1, 6)\n",
            "\n",
            " Dimension of array: 2\n"
          ],
          "name": "stdout"
        }
      ]
    },
    {
      "cell_type": "markdown",
      "metadata": {
        "id": "KJ-vG7Dke6_s"
      },
      "source": [
        "Questions 5:\n",
        "Consider two square numpy arrays. Stack them vertically and horizontally.\n",
        "Hint: Use vstack(), hstack()"
      ]
    },
    {
      "cell_type": "code",
      "metadata": {
        "id": "AlLp3FG6e_5_",
        "outputId": "7dc9b4dc-67f7-4d73-f517-1483824d8301",
        "colab": {
          "base_uri": "https://localhost:8080/"
        }
      },
      "source": [
        "#creating array\n",
        "n1 = np.array([56, 23])\n",
        "n2 = np.array([12, 78])\n",
        "print(\"Arrays:\", n1, n2)\n",
        "\n",
        "print(\"\\nArray in vstack:\", np.vstack((n1, n2)))\n",
        "\n",
        "print(\"\\nArray in hstack:\", np.hstack((n1, n2)))"
      ],
      "execution_count": null,
      "outputs": [
        {
          "output_type": "stream",
          "text": [
            "Arrays: [56 23] [12 78]\n",
            "\n",
            "Array in vstack: [[56 23]\n",
            " [12 78]]\n",
            "\n",
            "Array in hstack: [56 23 12 78]\n"
          ],
          "name": "stdout"
        }
      ]
    },
    {
      "cell_type": "markdown",
      "metadata": {
        "id": "secEJUR_hSTK"
      },
      "source": [
        "Questions 6:\n",
        "How to get unique items and counts of unique items?"
      ]
    },
    {
      "cell_type": "code",
      "metadata": {
        "id": "V_9yA16Bg7In",
        "outputId": "eb8feb13-2ed5-4d7d-eaa9-9105438c7c42",
        "colab": {
          "base_uri": "https://localhost:8080/"
        }
      },
      "source": [
        "def unique(list1): \n",
        "    x = np.array(list1) \n",
        "    print(np.unique(x)) \n",
        "      \n",
        "# driver code \n",
        "list1 = [10, 20, 10, 30, 40, 40] \n",
        "print(\"The unique values from 1st list is\") \n",
        "unique(list1) \n",
        "  \n",
        "# converting our list to set \n",
        "new_set = set(list1) \n",
        "print(\"No of unique items in the list are:\", len(new_set))"
      ],
      "execution_count": 14,
      "outputs": [
        {
          "output_type": "stream",
          "text": [
            "The unique values from 1st list is\n",
            "[10 20 30 40]\n",
            "No of unique items in the list are: 4\n"
          ],
          "name": "stdout"
        }
      ]
    }
  ]
}